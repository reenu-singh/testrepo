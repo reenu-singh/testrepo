{
 "cells": [
  {
   "cell_type": "markdown",
   "metadata": {},
   "source": [
    "<center>\n",
    "    <img src=\"https://cf-courses-data.s3.us.cloud-object-storage.appdomain.cloud/IBMDeveloperSkillsNetwork-DS0105EN-SkillsNetwork/labs/Module2/images/SN_web_lightmode.png\" width=\"300\" alt=\"cognitiveclass.ai logo\">\n",
    "</center>\n"
   ]
  },
  {
   "cell_type": "markdown",
   "metadata": {
    "tags": []
   },
   "source": [
    "# Data Science tools and Ecosystem\n",
    "## Introduction\n",
    "### In this notebook, Data Science Tools and Ecosystem are summarized.\n",
    "\n",
    "## **Objectives**\n",
    "### Popular languages for Data Science\n",
    "#### 1. Python\n",
    "#### 2. R\n",
    "#### 3. SQL\n",
    "#### Scala\n",
    "#### Java\n",
    "#### C++\n",
    "\n",
    "## Data Science Languages\n",
    "### Some of the popular languages that Data Scientists use are:\n",
    "#### 1. Python\n",
    "#### 2. R\n",
    "#### 3. SQL\n",
    "\n",
    "## Data Science libraries\n",
    "### Some of the commonly used libraries used by Data Scientists include:\n",
    "#### 1. Pandas\n",
    "#### 2. NumPy\n",
    "#### 3. Matplotlib\n",
    "#### 4. Scikit\n",
    "#### 5. Keras\n",
    "#### 6. Spark\n",
    "\n",
    "## Data Science Tools\n",
    "| Data Science Tools |\n",
    "|--------------------|\n",
    "| Data Management tools |\n",
    "| Data Integration tools |\n",
    "| Data Visualization tools |\n",
    "| Data Model Building tools |\n",
    "| Data Model Deployment tools |\n",
    "| Model Monitoring and Assessment tools |\n",
    "\n",
    "\n",
    "## Introducing arithmetic expression examples\n",
    "### Below are a few examples of evaluating arithmetic expressions in Python\n",
    "#### This a simple arithmetic expression to mutiply then add integers\n",
    "(3*4)+5"
   ]
  },
  {
   "cell_type": "code",
   "execution_count": 2,
   "metadata": {
    "tags": []
   },
   "outputs": [
    {
     "name": "stdout",
     "output_type": "stream",
     "text": [
      "17\n"
     ]
    }
   ],
   "source": [
    "a=(3*4)+5\n",
    "print(a)"
   ]
  },
  {
   "cell_type": "markdown",
   "metadata": {},
   "source": [
    "## To convert minutes to hours\n",
    "### This will convert 200 minutes to hours by diving by 60"
   ]
  },
  {
   "cell_type": "code",
   "execution_count": 4,
   "metadata": {
    "tags": []
   },
   "outputs": [
    {
     "name": "stdout",
     "output_type": "stream",
     "text": [
      "3.3333333333333335\n"
     ]
    }
   ],
   "source": [
    "a=200\n",
    "b=60\n",
    "h=a/b\n",
    "print(h)"
   ]
  },
  {
   "cell_type": "markdown",
   "metadata": {},
   "source": [
    "## Author\n",
    "#### Reenu Singh"
   ]
  }
 ],
 "metadata": {
  "kernelspec": {
   "display_name": "Python",
   "language": "python",
   "name": "conda-env-python-py"
  },
  "language_info": {
   "codemirror_mode": {
    "name": "ipython",
    "version": 3
   },
   "file_extension": ".py",
   "mimetype": "text/x-python",
   "name": "python",
   "nbconvert_exporter": "python",
   "pygments_lexer": "ipython3",
   "version": "3.7.12"
  }
 },
 "nbformat": 4,
 "nbformat_minor": 4
}
